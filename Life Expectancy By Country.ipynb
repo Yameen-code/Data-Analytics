{
 "cells": [
  {
   "cell_type": "markdown",
   "id": "3b50ee2a",
   "metadata": {},
   "source": [
    "# Life Expectancy By Country\n",
    "Over the course of the past few centuries, technological and medical advancements have helped increase the life expectancy of humans. However, as of now, the average life expectancy of humans varies depending on what country you live in.\n",
    "\n",
    "In this project, we will investigate a dataset containing information about the average life expectancy in 158 different countries. We will specifically look at how a country’s economic success might impact the life expectancy in that area."
   ]
  },
  {
   "cell_type": "code",
   "execution_count": 1,
   "id": "5e665aef",
   "metadata": {},
   "outputs": [],
   "source": [
    "import numpy as np\n",
    "import pandas as pd\n",
    "import matplotlib.pyplot as plt"
   ]
  },
  {
   "cell_type": "code",
   "execution_count": 2,
   "id": "127ccc8f",
   "metadata": {},
   "outputs": [
    {
     "name": "stdout",
     "output_type": "stream",
     "text": [
      "               Country  Life Expectancy          GDP\n",
      "0          Afghanistan         58.19375   340.015425\n",
      "1              Albania         75.15625  2119.726679\n",
      "2              Algeria         73.61875  2847.853392\n",
      "3               Angola         49.01875  1975.143045\n",
      "4  Antigua and Barbuda         75.05625  9759.305728\n"
     ]
    }
   ],
   "source": [
    "# load Data from CSV \n",
    "\n",
    "data = pd.read_csv('country_data.csv')\n",
    "\n",
    "# To begin, let’s get a sense of what this data looks like.\n",
    "\n",
    "print(data.head())"
   ]
  },
  {
   "cell_type": "code",
   "execution_count": 3,
   "id": "a9ab6207",
   "metadata": {},
   "outputs": [
    {
     "name": "stdout",
     "output_type": "stream",
     "text": [
      "0    58.19375\n",
      "1    75.15625\n",
      "2    73.61875\n",
      "3    49.01875\n",
      "4    75.05625\n",
      "Name: Life Expectancy, dtype: float64\n"
     ]
    }
   ],
   "source": [
    "# Let’s isolate the column that contains the life expectancy and store it in a variable named life_expectancy.\n",
    "\n",
    "life_expectancy = data['Life Expectancy']\n",
    "print(life_expectancy.head())"
   ]
  },
  {
   "cell_type": "markdown",
   "id": "e27ed93e",
   "metadata": {},
   "source": [
    "----\n",
    "# Find the Quantiles\n",
    "We can now use NumPy functions on that column! Let’s use the np.quantile() function.\n"
   ]
  },
  {
   "cell_type": "code",
   "execution_count": 5,
   "id": "ae8858ca",
   "metadata": {},
   "outputs": [
    {
     "name": "stdout",
     "output_type": "stream",
     "text": [
      "[62.325     72.525     75.4421875]\n"
     ]
    }
   ],
   "source": [
    "life_expectancy_quartiles = np.quantile(life_expectancy, [0.25, 0.5, 0.75])\n",
    "print(life_expectancy_quartiles)"
   ]
  },
  {
   "cell_type": "markdown",
   "id": "9b294fb1",
   "metadata": {},
   "source": [
    "---\n",
    "### Histogram\n",
    "The narrowest quartile is between 72 and 75 years. We can see this above by printing **life_expectancy_quartiles**  let see by  **histogram** how it will graph larger spike of data around 75."
   ]
  },
  {
   "cell_type": "code",
   "execution_count": 6,
   "id": "207453d8",
   "metadata": {},
   "outputs": [
    {
     "data": {
      "image/png": "[encoded data removed]",
      "text/plain": [
       "<Figure size 432x288 with 1 Axes>"
      ]
     },
     "metadata": {
      "needs_background": "light"
     },
     "output_type": "display_data"
    }
   ],
   "source": [
    "plt.hist(life_expectancy)\n",
    "plt.show()"
   ]
  },
  {
   "cell_type": "markdown",
   "id": "ce11488d",
   "metadata": {},
   "source": [
    "---\n",
    "# Splitting the Data by GDP\n",
    "#### GDP is a mesaure of a country’s wealth. Let’s now use the GDP data to see if life expectancy is affected by this value.\n",
    "Let’s split the data into two groups based on GDP. If we find the median GDP, we can create two datasets for “low GDP countries” and “high GDP countries."
   ]
  },
  {
   "cell_type": "code",
   "execution_count": 7,
   "id": "321c8568",
   "metadata": {},
   "outputs": [
    {
     "name": "stdout",
     "output_type": "stream",
     "text": [
      "0     340.015425\n",
      "1    2119.726679\n",
      "2    2847.853392\n",
      "3    1975.143045\n",
      "4    9759.305728\n",
      "Name: GDP, dtype: float64\n"
     ]
    }
   ],
   "source": [
    "gdp = data['GDP']\n",
    "print(gdp.head())"
   ]
  },
  {
   "cell_type": "code",
   "execution_count": 8,
   "id": "3e835054",
   "metadata": {},
   "outputs": [
    {
     "name": "stdout",
     "output_type": "stream",
     "text": [
      "2938.0781155\n"
     ]
    }
   ],
   "source": [
    "# Creating Median GDP, \n",
    "\n",
    "median_gdp = np.quantile(gdp, 0.5)\n",
    "print(median_gdp)"
   ]
  },
  {
   "cell_type": "code",
   "execution_count": 12,
   "id": "7fb469e0",
   "metadata": {},
   "outputs": [
    {
     "name": "stdout",
     "output_type": "stream",
     "text": [
      "         Country  Life Expectancy          GDP\n",
      "0    Afghanistan         58.19375   340.015425\n",
      "1        Albania         75.15625  2119.726679\n",
      "2        Algeria         73.61875  2847.853392\n",
      "3         Angola         49.01875  1975.143045\n",
      "6        Armenia         73.40000  1999.986318\n",
      "..           ...              ...          ...\n",
      "151      Ukraine         69.93750  1577.293329\n",
      "154   Uzbekistan         68.03125   651.092359\n",
      "155      Vanuatu         71.38750  2000.245518\n",
      "156       Zambia         53.90625   811.811841\n",
      "157     Zimbabwe         50.48750   410.980194\n",
      "\n",
      "[79 rows x 3 columns]\n"
     ]
    }
   ],
   "source": [
    "# lets now create low GDP and high GDP.\n",
    "\n",
    "low_gdp = data[data['GDP'] < median_gdp]\n",
    "print(low_gdp)"
   ]
  },
  {
   "cell_type": "code",
   "execution_count": 13,
   "id": "c596b617",
   "metadata": {},
   "outputs": [
    {
     "name": "stdout",
     "output_type": "stream",
     "text": [
      "                  Country  Life Expectancy           GDP\n",
      "4     Antigua and Barbuda         75.05625   9759.305728\n",
      "5               Argentina         75.15625   6998.575103\n",
      "7               Australia         81.81250  34637.565050\n",
      "8                 Austria         81.48125  33827.476310\n",
      "9              Azerbaijan         70.73125   3302.947807\n",
      "..                    ...              ...           ...\n",
      "146   Trinidad and Tobago         71.06875   7741.748090\n",
      "147               Tunisia         74.35625   3044.081488\n",
      "148                Turkey         73.91250   3983.917722\n",
      "152  United Arab Emirates         75.70000  22110.366990\n",
      "153               Uruguay         76.07500   7192.584875\n",
      "\n",
      "[79 rows x 3 columns]\n"
     ]
    }
   ],
   "source": [
    "high_gdp = data[data['GDP'] > median_gdp]\n",
    "print(high_gdp)"
   ]
  },
  {
   "cell_type": "code",
   "execution_count": 15,
   "id": "e9ce2926",
   "metadata": {},
   "outputs": [
    {
     "name": "stdout",
     "output_type": "stream",
     "text": [
      "[56.3375  64.34375 71.7375 ]\n"
     ]
    }
   ],
   "source": [
    "# Find the quartiles of the \"Life Expectancy\" column of low_gdp\n",
    "\n",
    "low_gdb_quartiles = np.quantile(low_gdp['Life Expectancy'], [0.25, 0.5, 0.75])\n",
    "print(low_gdb_quartiles)"
   ]
  },
  {
   "cell_type": "code",
   "execution_count": 16,
   "id": "24ad9ef8",
   "metadata": {},
   "outputs": [
    {
     "name": "stdout",
     "output_type": "stream",
     "text": [
      "[72.965625 75.15625  80.521875]\n"
     ]
    }
   ],
   "source": [
    "# Find the quartiles of the \"Life Expectancy\" column of high_gdp\n",
    "\n",
    "high_gdb_quartiles = np.quantile(high_gdp['Life Expectancy'], [0.25, 0.5, 0.75])\n",
    "print(high_gdb_quartiles)"
   ]
  },
  {
   "cell_type": "markdown",
   "id": "b30c9563",
   "metadata": {},
   "source": [
    "---\n",
    "# Histogram and Conclusions\n",
    "\n",
    "By looking at the quantiles, you should get a sense of the spread and central tendency of these two datasets. But let’s plot a histogram of each dataset to really compare them."
   ]
  },
  {
   "cell_type": "code",
   "execution_count": 19,
   "id": "aa0b1bfc",
   "metadata": {},
   "outputs": [
    {
     "data": {
      "image/png": "[encoded data removed]",
      "text/plain": [
       "<Figure size 1152x864 with 1 Axes>"
      ]
     },
     "metadata": {
      "needs_background": "light"
     },
     "output_type": "display_data"
    }
   ],
   "source": [
    "plt.figure(figsize=(16,12))\n",
    "plt.hist(low_gdp['Life Expectancy'], alpha=0.5, label='Low GDP')\n",
    "plt.hist(high_gdp['Life Expectancy'], alpha=0.5, label='High GDP')\n",
    "plt.legend()\n",
    "plt.show()"
   ]
  },
  {
   "cell_type": "markdown",
   "id": "a5ce14cc",
   "metadata": {},
   "source": [
    "---\n",
    "# We can now truly see the impact GDP has on life expectancy."
   ]
  },
  {
   "cell_type": "code",
   "execution_count": null,
   "id": "75efa588",
   "metadata": {},
   "outputs": [],
   "source": []
  }
 ],
 "metadata": {
  "kernelspec": {
   "display_name": "Python 3",
   "language": "python",
   "name": "python3"
  },
  "language_info": {
   "codemirror_mode": {
    "name": "ipython",
    "version": 3
   },
   "file_extension": ".py",
   "mimetype": "text/x-python",
   "name": "python",
   "nbconvert_exporter": "python",
   "pygments_lexer": "ipython3",
   "version": "3.8.8"
  }
 },
 "nbformat": 4,
 "nbformat_minor": 5
}
