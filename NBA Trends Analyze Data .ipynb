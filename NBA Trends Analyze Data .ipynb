{
 "cells": [
  {
   "cell_type": "code",
   "execution_count": 1,
   "id": "7013eb4b",
   "metadata": {},
   "outputs": [],
   "source": [
    "import numpy as np\n",
    "import pandas as pd\n",
    "import seaborn as sns\n",
    "import matplotlib.pyplot as plt\n",
    "from scipy.stats import pearsonr, chi2_contingency"
   ]
  },
  {
   "cell_type": "code",
   "execution_count": 2,
   "id": "c76a9785",
   "metadata": {},
   "outputs": [],
   "source": [
    "nba = pd.read_csv('nba_games.csv')"
   ]
  },
  {
   "cell_type": "code",
   "execution_count": 3,
   "id": "464f6bf8",
   "metadata": {},
   "outputs": [
    {
     "name": "stdout",
     "output_type": "stream",
     "text": [
      "        game_id  year_id  fran_id      opp_fran game_location  is_playoffs  \\\n",
      "0  194611010TRH     1947   Knicks       Huskies             A            0   \n",
      "1  194611020CHS     1947   Knicks         Stags             A            0   \n",
      "2  194611020PRO     1947  Celtics  Steamrollers             A            0   \n",
      "3  194611050BOS     1947  Celtics         Stags             H            0   \n",
      "4  194611070STB     1947   Knicks       Bombers             A            0   \n",
      "5  194611090DTF     1947  Celtics       Falcons             A            0   \n",
      "6  194611110NYK     1947   Knicks         Stags             H            0   \n",
      "7  194611130CHS     1947  Celtics         Stags             A            0   \n",
      "8  194611140STB     1947  Celtics       Bombers             A            0   \n",
      "9  194611160BOS     1947  Celtics       Huskies             H            0   \n",
      "\n",
      "   pts  opp_pts game_result  forecast  point_diff  \n",
      "0   68       66           W  0.359935           2  \n",
      "1   47       63           L  0.368899         -16  \n",
      "2   53       59           L  0.359935          -6  \n",
      "3   55       57           L  0.620204          -2  \n",
      "4   68       63           W  0.339290           5  \n",
      "5   46       69           L  0.386818         -23  \n",
      "6   68       78           L  0.629479         -10  \n",
      "7   61       71           L  0.291740         -10  \n",
      "8   62       64           L  0.313890          -2  \n",
      "9   53       49           W  0.602702           4  \n"
     ]
    }
   ],
   "source": [
    "print(nba.head(10))"
   ]
  },
  {
   "cell_type": "markdown",
   "id": "57191750",
   "metadata": {},
   "source": [
    "#### NBA Dataset subsetted into 2 smaller dataset games from 2010 named (nba_2010) and games from 2014 named (nba_2014)"
   ]
  },
  {
   "cell_type": "code",
   "execution_count": 4,
   "id": "e8af2f32",
   "metadata": {},
   "outputs": [],
   "source": [
    "nba_2010 = nba[nba.year_id == 2010]\n",
    "nba_2014 = nba[nba.year_id == 2014]"
   ]
  },
  {
   "cell_type": "code",
   "execution_count": 5,
   "id": "562e90c2",
   "metadata": {},
   "outputs": [
    {
     "name": "stdout",
     "output_type": "stream",
     "text": [
      "            game_id  year_id  fran_id      opp_fran game_location  \\\n",
      "21717  200910270CLE     2010  Celtics     Cavaliers             A   \n",
      "21718  200910280BOS     2010  Celtics       Hornets             H   \n",
      "21719  200910280MIA     2010   Knicks          Heat             A   \n",
      "21720  200910280MIN     2010     Nets  Timberwolves             A   \n",
      "21721  200910280OKC     2010  Thunder         Kings             H   \n",
      "\n",
      "       is_playoffs  pts  opp_pts game_result  forecast  point_diff  \n",
      "21717            0   95       89           W  0.277472           6  \n",
      "21718            0   92       59           W  0.814619          33  \n",
      "21719            0   93      115           L  0.258755         -22  \n",
      "21720            0   93       95           L  0.475155          -2  \n",
      "21721            0  102       89           W  0.716764          13  \n"
     ]
    }
   ],
   "source": [
    "print(nba_2010.head())"
   ]
  },
  {
   "cell_type": "code",
   "execution_count": 6,
   "id": "8180bdeb",
   "metadata": {},
   "outputs": [
    {
     "name": "stdout",
     "output_type": "stream",
     "text": [
      "            game_id  year_id  fran_id   opp_fran game_location  is_playoffs  \\\n",
      "23468  201310300CLE     2014     Nets  Cavaliers             A            0   \n",
      "23469  201310300NYK     2014   Knicks      Bucks             H            0   \n",
      "23470  201310300SAS     2014    Spurs  Grizzlies             H            0   \n",
      "23471  201310300TOR     2014  Celtics    Raptors             A            0   \n",
      "23472  201310300UTA     2014  Thunder       Jazz             A            0   \n",
      "\n",
      "       pts  opp_pts game_result  forecast  point_diff  \n",
      "23468   94       98           L  0.611981          -4  \n",
      "23469   90       83           W  0.793150           7  \n",
      "23470  101       94           W  0.692980           7  \n",
      "23471   87       93           L  0.361233          -6  \n",
      "23472  101       98           W  0.526056           3  \n"
     ]
    }
   ],
   "source": [
    "print(nba_2014.head())"
   ]
  },
  {
   "cell_type": "markdown",
   "id": "71bd6de2",
   "metadata": {},
   "source": [
    "#### Analyzing  the knicks to the nets with respect to points earned per game. in 2010"
   ]
  },
  {
   "cell_type": "code",
   "execution_count": 7,
   "id": "ab199383",
   "metadata": {},
   "outputs": [],
   "source": [
    "knicks_pts_10 = nba_2010.pts[nba.fran_id == 'Knicks']\n",
    "nets_pts_10 = nba_2010.pts[nba.fran_id == 'Nets']"
   ]
  },
  {
   "cell_type": "markdown",
   "id": "5ec1488e",
   "metadata": {},
   "source": [
    "#### Calculating difference between 2 teams, Average points scored."
   ]
  },
  {
   "cell_type": "code",
   "execution_count": 10,
   "id": "af64daff",
   "metadata": {},
   "outputs": [
    {
     "name": "stdout",
     "output_type": "stream",
     "text": [
      "102.10975609756098\n",
      "92.3780487804878\n"
     ]
    }
   ],
   "source": [
    "knicks_mean_score = np.mean(knicks_pts_10)\n",
    "nets_mean_score = np.mean(nets_pts_10)\n",
    "print(knicks_mean_score)\n",
    "print(nets_mean_score)"
   ]
  },
  {
   "cell_type": "code",
   "execution_count": 9,
   "id": "7ae064ba",
   "metadata": {},
   "outputs": [
    {
     "name": "stdout",
     "output_type": "stream",
     "text": [
      "9.731707317073173\n"
     ]
    }
   ],
   "source": [
    "diff_means = knicks_mean_score - nets_mean_score\n",
    "print(diff_means)"
   ]
  },
  {
   "cell_type": "code",
   "execution_count": 12,
   "id": "32be91ca",
   "metadata": {},
   "outputs": [
    {
     "data": {
      "image/png": "[encoded data removed]",
      "text/plain": [
       "<Figure size 432x288 with 1 Axes>"
      ]
     },
     "metadata": {
      "needs_background": "light"
     },
     "output_type": "display_data"
    }
   ],
   "source": [
    "plt.hist(knicks_pts_10, alpha=0.8, density = True, label = 'Knicks')\n",
    "plt.hist(nets_pts_10, alpha=0.8, density = True, label = 'Nets')\n",
    "plt.legend()\n",
    "plt.title('NBA 2010 Season')\n",
    "plt.show()"
   ]
  },
  {
   "cell_type": "markdown",
   "id": "33769b1c",
   "metadata": {},
   "source": [
    "#### Analyzing  the knicks to the nets with respect to points earned per game. in 2014"
   ]
  },
  {
   "cell_type": "code",
   "execution_count": 13,
   "id": "133923d2",
   "metadata": {},
   "outputs": [],
   "source": [
    "knicks_pts_14 = nba_2014.pts[nba.fran_id == 'Knicks']\n",
    "nets_pts_14 = nba_2014.pts[nba.fran_id == 'Nets']"
   ]
  },
  {
   "cell_type": "markdown",
   "id": "d1637d92",
   "metadata": {},
   "source": [
    "#### Calculating difference between 2 teams, Average points scored. in 2014 games"
   ]
  },
  {
   "cell_type": "code",
   "execution_count": 14,
   "id": "44a87e3b",
   "metadata": {},
   "outputs": [
    {
     "name": "stdout",
     "output_type": "stream",
     "text": [
      "98.58536585365853\n",
      "98.13829787234043\n"
     ]
    }
   ],
   "source": [
    "knicks_mean_score_14 = np.mean(knicks_pts_14)\n",
    "nets_mean_score_14 = np.mean(nets_pts_14)\n",
    "print(knicks_mean_score_14)\n",
    "print(nets_mean_score_14)"
   ]
  },
  {
   "cell_type": "code",
   "execution_count": 15,
   "id": "619cd5db",
   "metadata": {},
   "outputs": [
    {
     "name": "stdout",
     "output_type": "stream",
     "text": [
      "0.44706798131809933\n"
     ]
    }
   ],
   "source": [
    "diff_means_14 = knicks_mean_score_14 - nets_mean_score_14\n",
    "print(diff_means_14)"
   ]
  },
  {
   "cell_type": "code",
   "execution_count": 16,
   "id": "2dabebd1",
   "metadata": {},
   "outputs": [
    {
     "data": {
      "image/png": "[encoded data removed]",
      "text/plain": [
       "<Figure size 432x288 with 1 Axes>"
      ]
     },
     "metadata": {
      "needs_background": "light"
     },
     "output_type": "display_data"
    }
   ],
   "source": [
    "plt.hist(knicks_pts_14, alpha=0.8, density = True, label = 'Knicks')\n",
    "plt.hist(nets_pts_14, alpha=0.8, density = True, label = 'Nets')\n",
    "plt.legend()\n",
    "plt.title('NBA 2014 Season')\n",
    "plt.show()"
   ]
  },
  {
   "cell_type": "markdown",
   "id": "59d22d83",
   "metadata": {},
   "source": [
    "### For the remainder of this project, i will use Data from 2010,"
   ]
  },
  {
   "cell_type": "code",
   "execution_count": 17,
   "id": "2c83ec1c",
   "metadata": {},
   "outputs": [
    {
     "name": "stdout",
     "output_type": "stream",
     "text": [
      "            game_id  year_id  fran_id      opp_fran game_location  \\\n",
      "21717  200910270CLE     2010  Celtics     Cavaliers             A   \n",
      "21718  200910280BOS     2010  Celtics       Hornets             H   \n",
      "21719  200910280MIA     2010   Knicks          Heat             A   \n",
      "21720  200910280MIN     2010     Nets  Timberwolves             A   \n",
      "21721  200910280OKC     2010  Thunder         Kings             H   \n",
      "...             ...      ...      ...           ...           ...   \n",
      "22162  201006080BOS     2010  Celtics        Lakers             H   \n",
      "22163  201006100BOS     2010  Celtics        Lakers             H   \n",
      "22164  201006130BOS     2010  Celtics        Lakers             H   \n",
      "22165  201006150LAL     2010  Celtics        Lakers             A   \n",
      "22166  201006170LAL     2010  Celtics        Lakers             A   \n",
      "\n",
      "       is_playoffs  pts  opp_pts game_result  forecast  point_diff  \n",
      "21717            0   95       89           W  0.277472           6  \n",
      "21718            0   92       59           W  0.814619          33  \n",
      "21719            0   93      115           L  0.258755         -22  \n",
      "21720            0   93       95           L  0.475155          -2  \n",
      "21721            0  102       89           W  0.716764          13  \n",
      "...            ...  ...      ...         ...       ...         ...  \n",
      "22162            1   84       91           L  0.642039          -7  \n",
      "22163            1   96       89           W  0.610370           7  \n",
      "22164            1   92       86           W  0.627127           6  \n",
      "22165            1   67       89           L  0.361360         -22  \n",
      "22166            1   79       83           L  0.330820          -4  \n",
      "\n",
      "[450 rows x 11 columns]\n"
     ]
    }
   ],
   "source": [
    "print(nba_2010)"
   ]
  },
  {
   "cell_type": "code",
   "execution_count": 18,
   "id": "d139711b",
   "metadata": {},
   "outputs": [
    {
     "name": "stdout",
     "output_type": "stream",
     "text": [
      "['Celtics' 'Knicks' 'Nets' 'Thunder' 'Spurs']\n"
     ]
    }
   ],
   "source": [
    "print(nba_2010.fran_id.unique())"
   ]
  },
  {
   "cell_type": "markdown",
   "id": "369feb49",
   "metadata": {},
   "source": [
    "#### All Team in Dataset, Investigating the Relationship between\n",
    "#### Franchise and Points scored per Game using nba_2010."
   ]
  },
  {
   "cell_type": "code",
   "execution_count": 19,
   "id": "757ed8e3",
   "metadata": {},
   "outputs": [
    {
     "data": {
      "image/png": "[encoded data removed]",
      "text/plain": [
       "<Figure size 432x288 with 1 Axes>"
      ]
     },
     "metadata": {
      "needs_background": "light"
     },
     "output_type": "display_data"
    }
   ],
   "source": [
    "plt.clf()\n",
    "sns.boxplot(data = nba_2010, x = 'fran_id', y = 'pts')\n",
    "plt.show()"
   ]
  },
  {
   "cell_type": "markdown",
   "id": "a3887110",
   "metadata": {},
   "source": [
    "#### Want to Know if teams tend to win more games at Home compared to Away."
   ]
  },
  {
   "cell_type": "code",
   "execution_count": 20,
   "id": "42d1ecda",
   "metadata": {},
   "outputs": [],
   "source": [
    "location_result_freq = pd.crosstab(nba_2010.game_location, nba_2010.game_result)"
   ]
  },
  {
   "cell_type": "code",
   "execution_count": 21,
   "id": "d21d15ba",
   "metadata": {},
   "outputs": [
    {
     "name": "stdout",
     "output_type": "stream",
     "text": [
      "game_result      L    W\n",
      "game_location          \n",
      "A              133   92\n",
      "H              105  120\n"
     ]
    }
   ],
   "source": [
    "print(location_result_freq)"
   ]
  },
  {
   "cell_type": "code",
   "execution_count": 22,
   "id": "03b3160d",
   "metadata": {},
   "outputs": [],
   "source": [
    "location_result_proportions = location_result_freq / len(nba_2010)"
   ]
  },
  {
   "cell_type": "code",
   "execution_count": 23,
   "id": "49e64315",
   "metadata": {},
   "outputs": [
    {
     "name": "stdout",
     "output_type": "stream",
     "text": [
      "game_result           L         W\n",
      "game_location                    \n",
      "A              0.295556  0.204444\n",
      "H              0.233333  0.266667\n"
     ]
    }
   ],
   "source": [
    "print(location_result_proportions)"
   ]
  },
  {
   "cell_type": "markdown",
   "id": "a7ab28f4",
   "metadata": {},
   "source": [
    "#### Calculating expected contingency using location result freq."
   ]
  },
  {
   "cell_type": "code",
   "execution_count": 24,
   "id": "2ffca8e2",
   "metadata": {},
   "outputs": [],
   "source": [
    "chi2, pval, dof, expected = chi2_contingency(location_result_freq)"
   ]
  },
  {
   "cell_type": "code",
   "execution_count": 25,
   "id": "7a675ae4",
   "metadata": {},
   "outputs": [
    {
     "name": "stdout",
     "output_type": "stream",
     "text": [
      "6.501704455367053\n",
      "[[119. 106.]\n",
      " [119. 106.]]\n"
     ]
    }
   ],
   "source": [
    "print(chi2)\n",
    "print(expected)"
   ]
  },
  {
   "cell_type": "markdown",
   "id": "286c9d88",
   "metadata": {},
   "source": [
    "#### Calculating the [covariance] between forcast and point diff."
   ]
  },
  {
   "cell_type": "code",
   "execution_count": 27,
   "id": "852dabad",
   "metadata": {},
   "outputs": [],
   "source": [
    "point_diff_forcast_cov = np.cov(nba_2010.forecast, nba_2010.point_diff)"
   ]
  },
  {
   "cell_type": "code",
   "execution_count": 28,
   "id": "f38baca8",
   "metadata": {},
   "outputs": [
    {
     "name": "stdout",
     "output_type": "stream",
     "text": [
      "[[5.22668307e-02 1.37461257e+00]\n",
      " [1.37461257e+00 1.86559287e+02]]\n"
     ]
    }
   ],
   "source": [
    "print(point_diff_forcast_cov)"
   ]
  },
  {
   "cell_type": "code",
   "execution_count": 30,
   "id": "a69ca2eb",
   "metadata": {},
   "outputs": [],
   "source": [
    "point_diff_forecast_corr = pearsonr(nba_2010.forecast, nba_2010.point_diff)"
   ]
  },
  {
   "cell_type": "code",
   "execution_count": 31,
   "id": "b4d7b142",
   "metadata": {},
   "outputs": [
    {
     "name": "stdout",
     "output_type": "stream",
     "text": [
      "(0.44020887084680815, 9.410391573138826e-23)\n"
     ]
    }
   ],
   "source": [
    "print(point_diff_forecast_corr)"
   ]
  },
  {
   "cell_type": "code",
   "execution_count": 34,
   "id": "e32e2792",
   "metadata": {},
   "outputs": [
    {
     "data": {
      "image/png": "[encoded data removed]",
      "text/plain": [
       "<Figure size 432x288 with 1 Axes>"
      ]
     },
     "metadata": {
      "needs_background": "light"
     },
     "output_type": "display_data"
    }
   ],
   "source": [
    "plt.clf()\n",
    "plt.scatter('forecast', 'point_diff', data = nba_2010)\n",
    "plt.xlabel('Forcasted Win Prob.')\n",
    "plt.ylabel('Point Differential')\n",
    "plt.show()"
   ]
  },
  {
   "cell_type": "code",
   "execution_count": null,
   "id": "d2b1afac",
   "metadata": {},
   "outputs": [],
   "source": []
  }
 ],
 "metadata": {
  "kernelspec": {
   "display_name": "Python 3",
   "language": "python",
   "name": "python3"
  },
  "language_info": {
   "codemirror_mode": {
    "name": "ipython",
    "version": 3
   },
   "file_extension": ".py",
   "mimetype": "text/x-python",
   "name": "python",
   "nbconvert_exporter": "python",
   "pygments_lexer": "ipython3",
   "version": "3.8.8"
  }
 },
 "nbformat": 4,
 "nbformat_minor": 5
}
